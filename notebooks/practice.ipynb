{
 "cells": [
  {
   "cell_type": "markdown",
   "metadata": {},
   "source": [
    "# Práctica de NumPy\n",
    "\n",
    "Análisis de Distribuciones Probabilísticas con NumPy y Matplotlib\n",
    "\n",
    "## Objetivos\n",
    "- Aplicar los conceptos de generación de distribuciones aleatorias con **NumPy**.\n",
    "- Calcular los **estadísticos descriptivos** de cada distribución.\n",
    "- Representar visualmente los resultados utilizando **Matplotlib**.\n",
    "\n",
    "---\n",
    "\n",
    "## Indicaciones\n",
    "\n",
    "1. **Generación de datos**\n",
    "   - Genera **dos distribuciones aleatorias** de un tamaño de 1.000 observaciones cada una:\n",
    "     - Una **Distribución Normal (Gaussiana)** con media y desvío estándar a elección.\n",
    "     - Una **Distribución Uniforme** dentro de un rango que definas.\n",
    "\n",
    "2. **Análisis estadístico**\n",
    "   - Calcula para cada distribución los siguientes valores:\n",
    "     - Media (`mean`)\n",
    "     - Mediana (`median`)\n",
    "     - Varianza (`var`)\n",
    "     - Desvío estándar (`std`)\n",
    "     - Mínimo y máximo (`min`, `max`)\n",
    "\n",
    "3. **Visualización**\n",
    "   - Utiliza **Matplotlib** para crear **dos subplots (gráficos)** en una misma figura:\n",
    "     - En el **subplot izquierdo**, muestra el **histograma de la distribución normal**.\n",
    "     - En el **subplot derecho**, muestra el **histograma de la distribución uniforme**.\n",
    "   - Agrega título general, etiquetas de ejes, leyenda y grilla en cada gráfico.     - Agrega título, leyenda y etiquetas de ejes.\n",
    "\n",
    "4. **Reflexión**\n",
    "   - Describe brevemente (en una celda Markdown) las diferencias observadas entre ambas distribuciones según los resultados y el gráfico.\n",
    "\n",
    "---\n",
    "\n",
    "## Criterios de evaluación\n",
    "- Correcta implementación de PEP8\n",
    "- Correcto uso de celdas markdown y de código en el Jupyter Notebook.\n",
    "- Correcta implementación de las funciones de NumPy.\n",
    "- Cálculo adecuado de los estadísticos descriptivos.\n",
    "- Uso apropiado y estético de Matplotlib para la visualización.\n",
    "- Claridad en la interpretación final.\n",
    "\n",
    "\n"
   ]
  },
  {
   "cell_type": "code",
   "source": [
    "import matplotlib.pyplot as plt\n",
    "import numpy as np"
   ],
   "metadata": {
    "collapsed": false,
    "ExecuteTime": {
     "end_time": "2025-10-30T21:41:06.852690Z",
     "start_time": "2025-10-30T21:41:04.235836Z"
    }
   },
   "outputs": [],
   "execution_count": 1
  },
  {
   "metadata": {},
   "cell_type": "markdown",
   "source": "## Distribución normal"
  },
  {
   "metadata": {},
   "cell_type": "markdown",
   "source": [
    "Primero hacemos todos los pasos pedidos para la *Distribución Normal (Gaussiana)*.\n",
    "- Definimos los parámetros"
   ]
  },
  {
   "metadata": {
    "ExecuteTime": {
     "end_time": "2025-10-30T21:42:49.680023Z",
     "start_time": "2025-10-30T21:42:49.675850Z"
    }
   },
   "cell_type": "code",
   "source": [
    "media = 50\n",
    "desvio_estandar = 10\n",
    "n = 1000"
   ],
   "outputs": [],
   "execution_count": 3
  },
  {
   "metadata": {},
   "cell_type": "markdown",
   "source": "Generamos la distribución normal"
  },
  {
   "metadata": {
    "ExecuteTime": {
     "end_time": "2025-10-30T21:46:42.807460Z",
     "start_time": "2025-10-30T21:46:42.800626Z"
    }
   },
   "cell_type": "code",
   "source": "distribucion_normal = np.random.normal(media, desvio_estandar, n)",
   "outputs": [],
   "execution_count": 6
  },
  {
   "metadata": {},
   "cell_type": "markdown",
   "source": "Calculos estadísticos:"
  },
  {
   "metadata": {
    "ExecuteTime": {
     "end_time": "2025-10-30T21:46:33.567686Z",
     "start_time": "2025-10-30T21:46:33.463407Z"
    }
   },
   "cell_type": "code",
   "source": [
    "mean = np.mean(distribucion_normal)\n",
    "median = np.median(distribucion_normal)\n",
    "variance = np.var(distribucion_normal)\n",
    "std_dev = np.std(distribucion_normal)\n",
    "min_val = np.min(distribucion_normal)\n",
    "max_val = np.max(distribucion_normal)"
   ],
   "outputs": [
    {
     "ename": "NameError",
     "evalue": "name 'distribucion_normal' is not defined",
     "output_type": "error",
     "traceback": [
      "\u001B[31m---------------------------------------------------------------------------\u001B[39m",
      "\u001B[31mNameError\u001B[39m                                 Traceback (most recent call last)",
      "\u001B[36mCell\u001B[39m\u001B[36m \u001B[39m\u001B[32mIn[5]\u001B[39m\u001B[32m, line 1\u001B[39m\n\u001B[32m----> \u001B[39m\u001B[32m1\u001B[39m mean = np.mean(\u001B[43mdistribucion_normal\u001B[49m)\n\u001B[32m      2\u001B[39m median = np.median(distribucion_normal)\n\u001B[32m      3\u001B[39m variance = np.var(distribucion_normal)\n",
      "\u001B[31mNameError\u001B[39m: name 'distribucion_normal' is not defined"
     ]
    }
   ],
   "execution_count": 5
  }
 ],
 "metadata": {
  "kernelspec": {
   "display_name": "Python 3",
   "language": "python",
   "name": "python3"
  },
  "language_info": {
   "codemirror_mode": {
    "name": "ipython",
    "version": 3
   },
   "file_extension": ".py",
   "mimetype": "text/x-python",
   "name": "python",
   "nbconvert_exporter": "python",
   "pygments_lexer": "ipython3",
   "version": "3.6.2"
  }
 },
 "nbformat": 4,
 "nbformat_minor": 1
}
