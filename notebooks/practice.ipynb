{
 "cells": [
  {
   "cell_type": "markdown",
   "metadata": {},
   "source": [
    "# Práctica de NunPy\n",
    "\n",
    "Análisis de Distribuciones Probabilísticas con NumPy y Matplotlib\n",
    "\n",
    "## Objetivos\n",
    "- Aplicar los conceptos de generación de distribuciones aleatorias con **NumPy**.\n",
    "- Calcular los **estadísticos descriptivos** de cada distribución.\n",
    "- Representar visualmente los resultados utilizando **Matplotlib**.\n",
    "\n",
    "---\n",
    "\n",
    "## Indicaciones\n",
    "\n",
    "1. **Generación de datos**\n",
    "   - Genera **dos distribuciones aleatorias** de un tamaño de 1.000 observaciones cada una:\n",
    "     - Una **Distribución Normal (Gaussiana)** con media y desvío estándar a elección.\n",
    "     - Una **Distribución Uniforme** dentro de un rango que definas.\n",
    "\n",
    "2. **Análisis estadístico**\n",
    "   - Calcula para cada distribución los siguientes valores:\n",
    "     - Media (`mean`)\n",
    "     - Mediana (`median`)\n",
    "     - Varianza (`var`)\n",
    "     - Desvío estándar (`std`)\n",
    "     - Mínimo y máximo (`min`, `max`)\n",
    "\n",
    "3. **Visualización**\n",
    "   - Utiliza **Matplotlib** para crear **dos subplots (gráficos)** en una misma figura:\n",
    "     - En el **subplot izquierdo**, muestra el **histograma de la distribución normal**.\n",
    "     - En el **subplot derecho**, muestra el **histograma de la distribución uniforme**.\n",
    "   - Agrega título general, etiquetas de ejes, leyenda y grilla en cada gráfico.     - Agrega título, leyenda y etiquetas de ejes.\n",
    "\n",
    "4. **Reflexión**\n",
    "   - Describe brevemente (en una celda Markdown) las diferencias observadas entre ambas distribuciones según los resultados y el gráfico.\n",
    "\n",
    "---\n",
    "\n",
    "## Criterios de evaluación\n",
    "- Correcta implementación de PEP8\n",
    "- Correcto uso de celdas markdown y de código en el Jupyter Notebook.\n",
    "- Correcta implementación de las funciones de NumPy.\n",
    "- Cálculo adecuado de los estadísticos descriptivos.\n",
    "- Uso apropiado y estético de Matplotlib para la visualización.\n",
    "- Claridad en la interpretación final.\n",
    "\n",
    "\n"
   ]
  },
  {
   "cell_type": "code",
   "execution_count": 10,
   "outputs": [],
   "source": [
    "import matplotlib.pyplot as plt\n",
    "import numpy as np\n",
    "\n",
    "# Tu código a partir de aquí\n"
   ],
   "metadata": {
    "collapsed": false
   }
  },
  {
   "cell_type": "code",
   "execution_count": null,
   "metadata": {
    "collapsed": true
   },
   "outputs": [],
   "source": []
  }
 ],
 "metadata": {
  "kernelspec": {
   "display_name": "Python 3",
   "language": "python",
   "name": "python3"
  },
  "language_info": {
   "codemirror_mode": {
    "name": "ipython",
    "version": 3
   },
   "file_extension": ".py",
   "mimetype": "text/x-python",
   "name": "python",
   "nbconvert_exporter": "python",
   "pygments_lexer": "ipython3",
   "version": "3.6.2"
  }
 },
 "nbformat": 4,
 "nbformat_minor": 1
}
