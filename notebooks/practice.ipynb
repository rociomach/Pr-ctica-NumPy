{
 "cells": [
  {
   "cell_type": "markdown",
   "metadata": {},
   "source": [
    "# Práctica de NumPy\n",
    "\n",
    "Análisis de Distribuciones Probabilísticas con NumPy y Matplotlib\n",
    "\n",
    "## Objetivos\n",
    "- Aplicar los conceptos de generación de distribuciones aleatorias con **NumPy**.\n",
    "- Calcular los **estadísticos descriptivos** de cada distribución.\n",
    "- Representar visualmente los resultados utilizando **Matplotlib**.\n",
    "\n",
    "---\n",
    "\n",
    "## Indicaciones\n",
    "\n",
    "1. **Generación de datos**\n",
    "   - Genera **dos distribuciones aleatorias** de un tamaño de 1.000 observaciones cada una:\n",
    "     - Una **Distribución Normal (Gaussiana)** con media y desvío estándar a elección.\n",
    "     - Una **Distribución Uniforme** dentro de un rango que definas.\n",
    "\n",
    "2. **Análisis estadístico**\n",
    "   - Calcula para cada distribución los siguientes valores:\n",
    "     - Media (`mean`)\n",
    "     - Mediana (`median`)\n",
    "     - Varianza (`var`)\n",
    "     - Desvío estándar (`std`)\n",
    "     - Mínimo y máximo (`min`, `max`)\n",
    "\n",
    "3. **Visualización**\n",
    "   - Utiliza **Matplotlib** para crear **dos subplots (gráficos)** en una misma figura:\n",
    "     - En el **subplot izquierdo**, muestra el **histograma de la distribución normal**.\n",
    "     - En el **subplot derecho**, muestra el **histograma de la distribución uniforme**.\n",
    "   - Agrega título general, etiquetas de ejes, leyenda y grilla en cada gráfico.     - Agrega título, leyenda y etiquetas de ejes.\n",
    "\n",
    "4. **Reflexión**\n",
    "   - Describe brevemente (en una celda Markdown) las diferencias observadas entre ambas distribuciones según los resultados y el gráfico.\n",
    "\n",
    "---\n",
    "\n",
    "## Criterios de evaluación\n",
    "- Correcta implementación de PEP8\n",
    "- Correcto uso de celdas markdown y de código en el Jupyter Notebook.\n",
    "- Correcta implementación de las funciones de NumPy.\n",
    "- Cálculo adecuado de los estadísticos descriptivos.\n",
    "- Uso apropiado y estético de Matplotlib para la visualización.\n",
    "- Claridad en la interpretación final.\n",
    "\n",
    "\n"
   ]
  },
  {
   "cell_type": "code",
   "source": [
    "import matplotlib.pyplot as plt\n",
    "import numpy as np"
   ],
   "metadata": {
    "collapsed": false,
    "ExecuteTime": {
     "end_time": "2025-10-30T21:41:06.852690Z",
     "start_time": "2025-10-30T21:41:04.235836Z"
    }
   },
   "outputs": [],
   "execution_count": 1
  },
  {
   "metadata": {},
   "cell_type": "markdown",
   "source": "## Distribución normal"
  },
  {
   "metadata": {},
   "cell_type": "markdown",
   "source": [
    "Primero hacemos todos los pasos pedidos para la *Distribución Normal (Gaussiana)*.\n",
    "- Definimos los parámetros"
   ]
  },
  {
   "metadata": {
    "ExecuteTime": {
     "end_time": "2025-10-30T21:42:49.680023Z",
     "start_time": "2025-10-30T21:42:49.675850Z"
    }
   },
   "cell_type": "code",
   "source": [
    "media = 50\n",
    "desvio_estandar = 10\n",
    "n = 1000"
   ],
   "outputs": [],
   "execution_count": 3
  },
  {
   "metadata": {},
   "cell_type": "markdown",
   "source": "Generamos la distribución normal"
  },
  {
   "metadata": {
    "ExecuteTime": {
     "end_time": "2025-10-30T21:44:29.437536Z",
     "start_time": "2025-10-30T21:44:27.430296Z"
    }
   },
   "cell_type": "code",
   "source": "datos_normales = np.random.normal(media, desvio_estandar, n)",
   "outputs": [],
   "execution_count": 4
  }
 ],
 "metadata": {
  "kernelspec": {
   "display_name": "Python 3",
   "language": "python",
   "name": "python3"
  },
  "language_info": {
   "codemirror_mode": {
    "name": "ipython",
    "version": 3
   },
   "file_extension": ".py",
   "mimetype": "text/x-python",
   "name": "python",
   "nbconvert_exporter": "python",
   "pygments_lexer": "ipython3",
   "version": "3.6.2"
  }
 },
 "nbformat": 4,
 "nbformat_minor": 1
}
